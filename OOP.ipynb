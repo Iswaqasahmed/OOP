{
  "nbformat": 4,
  "nbformat_minor": 0,
  "metadata": {
    "colab": {
      "name": "OOP.ipynb",
      "provenance": [],
      "authorship_tag": "ABX9TyPI6LmkYYuVOVcBA8lotSKu",
      "include_colab_link": true
    },
    "kernelspec": {
      "name": "python3",
      "display_name": "Python 3"
    }
  },
  "cells": [
    {
      "cell_type": "markdown",
      "metadata": {
        "id": "view-in-github",
        "colab_type": "text"
      },
      "source": [
        "<a href=\"https://colab.research.google.com/github/Iswaqasahmed/OOP/blob/master/OOP.ipynb\" target=\"_parent\"><img src=\"https://colab.research.google.com/assets/colab-badge.svg\" alt=\"Open In Colab\"/></a>"
      ]
    },
    {
      "cell_type": "code",
      "metadata": {
        "id": "FQYBTXppio1Q"
      },
      "source": [
        "string = 'it is string'\n",
        "integer = 12\n",
        "floating = 12.0"
      ],
      "execution_count": 1,
      "outputs": []
    },
    {
      "cell_type": "code",
      "metadata": {
        "colab": {
          "base_uri": "https://localhost:8080/"
        },
        "id": "U0bt9DY_i3JX",
        "outputId": "bd951dbd-a8de-47d9-b2b4-217825892c4f"
      },
      "source": [
        "print(type(string))\n",
        "print(type(integer))\n",
        "print(type(floating))"
      ],
      "execution_count": 4,
      "outputs": [
        {
          "output_type": "stream",
          "text": [
            "<class 'str'>\n",
            "<class 'int'>\n",
            "<class 'float'>\n"
          ],
          "name": "stdout"
        }
      ]
    },
    {
      "cell_type": "code",
      "metadata": {
        "id": "3WOf3Hi6n9Mr"
      },
      "source": [
        "#@title Classess and Instance\n"
      ],
      "execution_count": 37,
      "outputs": []
    },
    {
      "cell_type": "code",
      "metadata": {
        "id": "M3ZSLDyWoZoU"
      },
      "source": [
        " class Student:\n",
        "   pass"
      ],
      "execution_count": 42,
      "outputs": []
    },
    {
      "cell_type": "code",
      "metadata": {
        "colab": {
          "base_uri": "https://localhost:8080/"
        },
        "id": "TnUdv2VM62D5",
        "outputId": "ebe0d25f-7b6e-4837-bc81-fd0d359e1ffb"
      },
      "source": [
        "type(Student())"
      ],
      "execution_count": 43,
      "outputs": [
        {
          "output_type": "execute_result",
          "data": {
            "text/plain": [
              "__main__.Student"
            ]
          },
          "metadata": {
            "tags": []
          },
          "execution_count": 43
        }
      ]
    },
    {
      "cell_type": "code",
      "metadata": {
        "id": "d0e2nPBm7BYN"
      },
      "source": [
        "class Student:\n",
        "  def __init__(self,firstName,lastName,seatNumber):\n",
        "    self.firstName = firstName\n",
        "    self.lastName = lastName\n",
        "    self.seatNumber = seatNumber\n",
        "\n",
        "  def fullNameDisplay(\n",
        "      self):\n",
        "    return \"{0} {1} \".format(self.firstName,self.lastName)\n",
        "\n",
        "  def seatDisplay(self):\n",
        "    return \"{0} \".format(self.seatNumber)\n",
        "  \n"
      ],
      "execution_count": 44,
      "outputs": []
    },
    {
      "cell_type": "code",
      "metadata": {
        "id": "PPZsJRgu8lPb"
      },
      "source": [
        "stu = Student('waqas','ahmed','A1x2p')"
      ],
      "execution_count": 46,
      "outputs": []
    },
    {
      "cell_type": "code",
      "metadata": {
        "colab": {
          "base_uri": "https://localhost:8080/",
          "height": 36
        },
        "id": "QTIpY9DV8nfe",
        "outputId": "50731f80-3228-4a25-8e14-379cebf1c8d7"
      },
      "source": [
        "stu.fullNameDisplay()"
      ],
      "execution_count": 47,
      "outputs": [
        {
          "output_type": "execute_result",
          "data": {
            "application/vnd.google.colaboratory.intrinsic+json": {
              "type": "string"
            },
            "text/plain": [
              "'waqas ahmed '"
            ]
          },
          "metadata": {
            "tags": []
          },
          "execution_count": 47
        }
      ]
    },
    {
      "cell_type": "code",
      "metadata": {
        "colab": {
          "base_uri": "https://localhost:8080/",
          "height": 36
        },
        "id": "BgAAseSA80Mm",
        "outputId": "b299a8ec-c3da-4cf7-a1b7-bf89c98d8d6c"
      },
      "source": [
        "stu.seatDisplay()"
      ],
      "execution_count": 48,
      "outputs": [
        {
          "output_type": "execute_result",
          "data": {
            "application/vnd.google.colaboratory.intrinsic+json": {
              "type": "string"
            },
            "text/plain": [
              "'A1x2p '"
            ]
          },
          "metadata": {
            "tags": []
          },
          "execution_count": 48
        }
      ]
    },
    {
      "cell_type": "code",
      "metadata": {
        "id": "jiTOQ3gx83IX"
      },
      "source": [
        "dis = {'a':1}"
      ],
      "execution_count": 50,
      "outputs": []
    },
    {
      "cell_type": "code",
      "metadata": {
        "id": "gI6sgdooIDif"
      },
      "source": [
        "dis['a'] = 'b'"
      ],
      "execution_count": 52,
      "outputs": []
    },
    {
      "cell_type": "code",
      "metadata": {
        "colab": {
          "base_uri": "https://localhost:8080/"
        },
        "id": "R7aie2HvIGQo",
        "outputId": "79858ab5-27c2-4933-ea08-ebe690590dde"
      },
      "source": [
        "dis"
      ],
      "execution_count": 53,
      "outputs": [
        {
          "output_type": "execute_result",
          "data": {
            "text/plain": [
              "{'a': 'b'}"
            ]
          },
          "metadata": {
            "tags": []
          },
          "execution_count": 53
        }
      ]
    },
    {
      "cell_type": "code",
      "metadata": {
        "id": "rgd0Miy9IJFK"
      },
      "source": [
        ""
      ],
      "execution_count": null,
      "outputs": []
    }
  ]
}