{
 "metadata": {
  "language_info": {
   "codemirror_mode": {
    "name": "ipython",
    "version": 3
   },
   "file_extension": ".py",
   "mimetype": "text/x-python",
   "name": "python",
   "nbconvert_exporter": "python",
   "pygments_lexer": "ipython3",
   "version": "3.9.0-final"
  },
  "orig_nbformat": 2,
  "kernelspec": {
   "name": "Python 3.9.0 64-bit",
   "display_name": "Python 3.9.0 64-bit",
   "metadata": {
    "interpreter": {
     "hash": "5635ed104e5fe25eca67b2199516701991006df5bad06ddf2e01129a32aeb916"
    }
   }
  }
 },
 "nbformat": 4,
 "nbformat_minor": 2,
 "cells": [
  {
   "cell_type": "code",
   "execution_count": 1,
   "metadata": {},
   "outputs": [
    {
     "output_type": "stream",
     "name": "stdout",
     "text": [
      "UBIT.__dict__::>  {'__module__': '__main__', 'student': 0, '__dict__': <attribute '__dict__' of 'UBIT' objects>, '__weakref__': <attribute '__weakref__' of 'UBIT' objects>, '__doc__': None}\nUBIT.__doc__::>  None\nUBIT.__name__::>  UBIT\nUBIT.__module__ ::>  __main__\nUBIT.__base__ ::>  <class 'object'>\n"
     ]
    }
   ],
   "source": [
    "class UBIT:\n",
    "    student = 0;\n",
    "    \n",
    "# Dictionary containing the class's namespace\n",
    "print('UBIT.__dict__::> ',UBIT.__dict__)\n",
    "\n",
    "# Class Documentation string or None if undefined\n",
    "print(\"UBIT.__doc__::> \",UBIT.__doc__)\n",
    "\n",
    "# Class Name\n",
    "print(\"UBIT.__name__::> \",UBIT.__name__)\n",
    "\n",
    "# Module name in which the class is defined\n",
    "print(\"UBIT.__module__ ::> \",UBIT.__module__)\n",
    "\n",
    "# \n",
    "print('UBIT.__base__ ::> ',UBIT.__base__)\n"
   ]
  },
  {
   "source": [
    "# User Define public,private and protected Attributes\n",
    "\n",
    "- **Private attributes** can only be accessed within its class definition\n",
    "- **Public Attributes** can and should be freely used\n",
    "- **Protected Atttribute** are only accessible within the class and its' subclasses"
   ],
   "cell_type": "markdown",
   "metadata": {}
  },
  {
   "cell_type": "code",
   "execution_count": null,
   "metadata": {},
   "outputs": [],
   "source": []
  }
 ]
}