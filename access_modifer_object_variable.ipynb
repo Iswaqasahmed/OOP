{
 "metadata": {
  "language_info": {
   "codemirror_mode": {
    "name": "ipython",
    "version": 3
   },
   "file_extension": ".py",
   "mimetype": "text/x-python",
   "name": "python",
   "nbconvert_exporter": "python",
   "pygments_lexer": "ipython3",
   "version": "3.9.0-final"
  },
  "orig_nbformat": 2,
  "kernelspec": {
   "name": "Python 3.9.0 64-bit",
   "display_name": "Python 3.9.0 64-bit",
   "metadata": {
    "interpreter": {
     "hash": "5635ed104e5fe25eca67b2199516701991006df5bad06ddf2e01129a32aeb916"
    }
   }
  }
 },
 "nbformat": 4,
 "nbformat_minor": 2,
 "cells": [
  {
   "cell_type": "code",
   "execution_count": 1,
   "metadata": {},
   "outputs": [
    {
     "output_type": "stream",
     "name": "stdout",
     "text": [
      "UBIT.__dict__::>  {'__module__': '__main__', 'student': 0, '__dict__': <attribute '__dict__' of 'UBIT' objects>, '__weakref__': <attribute '__weakref__' of 'UBIT' objects>, '__doc__': None}\nUBIT.__doc__::>  None\nUBIT.__name__::>  UBIT\nUBIT.__module__ ::>  __main__\nUBIT.__base__ ::>  <class 'object'>\n"
     ]
    }
   ],
   "source": [
    "class UBIT:\n",
    "    student = 0;\n",
    "    \n",
    "# Dictionary containing the class's namespace\n",
    "print('UBIT.__dict__::> ',UBIT.__dict__)\n",
    "\n",
    "# Class Documentation string or None if undefined\n",
    "print(\"UBIT.__doc__::> \",UBIT.__doc__)\n",
    "\n",
    "# Class Name\n",
    "print(\"UBIT.__name__::> \",UBIT.__name__)\n",
    "\n",
    "# Module name in which the class is defined\n",
    "print(\"UBIT.__module__ ::> \",UBIT.__module__)\n",
    "\n",
    "# \n",
    "print('UBIT.__base__ ::> ',UBIT.__base__)\n"
   ]
  },
  {
   "source": [
    "# User Define public,private and protected Attributes\n",
    "\n",
    "- **Private attributes** can only be accessed within its class definition\n",
    "- **Public Attributes** can and should be freely used\n",
    "- **Protected Atttribute** are only accessible within the class and its' subclasses"
   ],
   "cell_type": "markdown",
   "metadata": {}
  },
  {
   "cell_type": "code",
   "execution_count": 2,
   "metadata": {},
   "outputs": [
    {
     "output_type": "stream",
     "name": "stdout",
     "text": [
      "I am Public\nI am Protected\nI am Private\n"
     ]
    },
    {
     "output_type": "error",
     "ename": "AttributeError",
     "evalue": "'Student' object has no attribute '__pri'",
     "traceback": [
      "\u001b[1;31m---------------------------------------------------------------------------\u001b[0m",
      "\u001b[1;31mAttributeError\u001b[0m                            Traceback (most recent call last)",
      "\u001b[1;32m<ipython-input-2-3bb1f2269774>\u001b[0m in \u001b[0;36m<module>\u001b[1;34m\u001b[0m\n\u001b[0;32m      9\u001b[0m \u001b[0mprint\u001b[0m\u001b[1;33m(\u001b[0m\u001b[0mst\u001b[0m\u001b[1;33m.\u001b[0m\u001b[0m_pro\u001b[0m\u001b[1;33m)\u001b[0m\u001b[1;33m\u001b[0m\u001b[1;33m\u001b[0m\u001b[0m\n\u001b[0;32m     10\u001b[0m \u001b[0mprint\u001b[0m\u001b[1;33m(\u001b[0m\u001b[0mst\u001b[0m\u001b[1;33m.\u001b[0m\u001b[0m_Student__pri\u001b[0m\u001b[1;33m)\u001b[0m \u001b[1;31m## private attributes access can be done in this way\u001b[0m\u001b[1;33m\u001b[0m\u001b[1;33m\u001b[0m\u001b[0m\n\u001b[1;32m---> 11\u001b[1;33m \u001b[0mprint\u001b[0m\u001b[1;33m(\u001b[0m\u001b[0mst\u001b[0m\u001b[1;33m.\u001b[0m\u001b[0m__pri\u001b[0m\u001b[1;33m)\u001b[0m   \u001b[1;31m## Error in Access\u001b[0m\u001b[1;33m\u001b[0m\u001b[1;33m\u001b[0m\u001b[0m\n\u001b[0m",
      "\u001b[1;31mAttributeError\u001b[0m: 'Student' object has no attribute '__pri'"
     ]
    }
   ],
   "source": [
    "class Student:\n",
    "    def __init__(self):\n",
    "        self.__pri = (\"I am Private\")        # private attributes\n",
    "        self._pro = (\"I am Protected\")   # Protected Attributes\n",
    "        self.pub = ('I am Public')     #  public Attributes\n",
    "\n",
    "st = Student()\n",
    "print(st.pub)     # accessing public attrbutes\n",
    "print(st._pro)\n",
    "print(st._Student__pri) ## private attributes access can be done in this way\n",
    "print(st.__pri)   ## Error in Access"
   ]
  },
  {
   "cell_type": "code",
   "execution_count": null,
   "metadata": {},
   "outputs": [],
   "source": []
  }
 ]
}